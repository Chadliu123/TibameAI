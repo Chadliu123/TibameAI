{
  "nbformat": 4,
  "nbformat_minor": 0,
  "metadata": {
    "colab": {
      "name": "FastText.ipynb",
      "provenance": [],
      "collapsed_sections": [],
      "authorship_tag": "ABX9TyM0dgioagaEsrY1Ss4XsQlh",
      "include_colab_link": true
    },
    "kernelspec": {
      "name": "python3",
      "display_name": "Python 3"
    },
    "accelerator": "GPU"
  },
  "cells": [
    {
      "cell_type": "markdown",
      "metadata": {
        "id": "view-in-github",
        "colab_type": "text"
      },
      "source": [
        "<a href=\"https://colab.research.google.com/github/Chadliu123/TibameAI/blob/main/FastText.ipynb\" target=\"_parent\"><img src=\"https://colab.research.google.com/assets/colab-badge.svg\" alt=\"Open In Colab\"/></a>"
      ]
    },
    {
      "cell_type": "code",
      "metadata": {
        "id": "v4xjpCO5H2PU"
      },
      "source": [
        "# 下載fasttext千錘百鍊預訓練好的詞向量\n",
        "!wget https://dl.fbaipublicfiles.com/fasttext/vectors-crawl/cc.zh.300.bin.gz\n",
        "!gunzip cc.zh.300.bin.gz"
      ],
      "execution_count": null,
      "outputs": []
    },
    {
      "cell_type": "code",
      "metadata": {
        "id": "lukKathzIBoX"
      },
      "source": [
        "from gensim.models.fasttext import FastText\n",
        "model = FastText.load_fasttext_format('cc.zh.300.bin')"
      ],
      "execution_count": null,
      "outputs": []
    },
    {
      "cell_type": "code",
      "metadata": {
        "id": "l-B-pm4yIFPt"
      },
      "source": [
        "import warnings\n",
        "warnings.filterwarnings(\"ignore\", category=FutureWarning)"
      ],
      "execution_count": null,
      "outputs": []
    },
    {
      "cell_type": "code",
      "metadata": {
        "id": "tuGctVheIG2d",
        "outputId": "ae980b41-0ee7-41d0-8d7a-7c1de04f676b",
        "colab": {
          "base_uri": "https://localhost:8080/",
          "height": 34
        }
      },
      "source": [
        "# 我們的模型裡面有多少個詞\n",
        "len(model.wv.vocab)"
      ],
      "execution_count": null,
      "outputs": [
        {
          "output_type": "execute_result",
          "data": {
            "text/plain": [
              "2000000"
            ]
          },
          "metadata": {
            "tags": []
          },
          "execution_count": 7
        }
      ]
    },
    {
      "cell_type": "code",
      "metadata": {
        "id": "-TM6fVGXIIVo"
      },
      "source": [
        "word = \"hi\"#@param {type:\"string\"}\n",
        "print(word, \"長這樣:\")\n",
        "model.wv[word]"
      ],
      "execution_count": null,
      "outputs": []
    },
    {
      "cell_type": "code",
      "metadata": {
        "id": "lNvP01ciIKPi",
        "outputId": "9414e6e7-d353-488a-c5fd-edb4b319cd7a",
        "colab": {
          "base_uri": "https://localhost:8080/",
          "height": 187
        }
      },
      "source": [
        "#@title 找出相似詞!!!\n",
        "\n",
        "text = '\\u53F0\\u7063' #@param {type:\"string\"}\n",
        "model.wv.most_similar(text)"
      ],
      "execution_count": null,
      "outputs": [
        {
          "output_type": "execute_result",
          "data": {
            "text/plain": [
              "[('臺灣', 0.8362592458724976),\n",
              " ('為臺灣', 0.6565476655960083),\n",
              " ('台灣與', 0.652172327041626),\n",
              " ('台灣還', 0.6478472352027893),\n",
              " ('美國', 0.6477651596069336),\n",
              " ('台湾', 0.6421438455581665),\n",
              " ('中國', 0.6415499448776245),\n",
              " ('台彎', 0.6296838521957397),\n",
              " ('與臺灣', 0.6192030906677246),\n",
              " ('台灣現', 0.6169569492340088)]"
            ]
          },
          "metadata": {
            "tags": []
          },
          "execution_count": 23
        }
      ]
    },
    {
      "cell_type": "code",
      "metadata": {
        "id": "2E6NsWmSM9iD",
        "outputId": "d0fa0833-649a-455c-968a-c0b5841d147e",
        "colab": {
          "base_uri": "https://localhost:8080/",
          "height": 34
        }
      },
      "source": [
        "#@title 比較兩個特定詞的相似度\n",
        "\n",
        "text1 = 'Coldplay' #@param {type:\"string\"}\n",
        "text2 = 'OneRepublic' #@param {type:\"string\"}\n",
        "model.wv.similarity(text1, text2)"
      ],
      "execution_count": null,
      "outputs": [
        {
          "output_type": "execute_result",
          "data": {
            "text/plain": [
              "0.38403556"
            ]
          },
          "metadata": {
            "tags": []
          },
          "execution_count": 24
        }
      ]
    },
    {
      "cell_type": "code",
      "metadata": {
        "id": "wphMzTr9M_bD",
        "outputId": "e4c16d0c-e36d-478d-c83f-7927d00d319e",
        "colab": {
          "base_uri": "https://localhost:8080/",
          "height": 34
        }
      },
      "source": [
        "\n",
        "#@title 找到不是同一掛的詞\n",
        "\n",
        "text1 = 'morning' #@param {type:\"string\"}\n",
        "text2 = 'afternoon' #@param {type:\"string\"}\n",
        "text3 = 'evening' #@param {type:\"string\"}\n",
        "text4 = 'python' #@param {type:\"string\"}\n",
        "\n",
        "notmatch = model.wv.doesnt_match([text1, text2, text3, text4])\n",
        "print(\"不是同一掛的:\", notmatch)"
      ],
      "execution_count": null,
      "outputs": [
        {
          "output_type": "stream",
          "text": [
            "不是同一掛的: python\n"
          ],
          "name": "stdout"
        }
      ]
    },
    {
      "cell_type": "code",
      "metadata": {
        "id": "eZsqDhiANCTL",
        "outputId": "e82bc704-1a53-43cd-d6da-8dd63d5aec32",
        "colab": {
          "base_uri": "https://localhost:8080/",
          "height": 204
        }
      },
      "source": [
        "#@title 給電腦做智力測驗(詞1 - 詞3 = ? - 詞2)\n",
        "\n",
        "# text1 + text2 - text3 = ?\n",
        "# text1 - text3 = ? - text2\n",
        "text1 = 'king' #@param {type:\"string\"}\n",
        "text2 = 'woman' #@param {type:\"string\"}\n",
        "text3 = 'man' #@param {type:\"string\"}\n",
        "question = model.wv.most_similar(positive=[text1, text2], negative=[text3])\n",
        "print(text1, \"-\", text3, \"=\", \"?\", \"-\", text2)\n",
        "question"
      ],
      "execution_count": null,
      "outputs": [
        {
          "output_type": "stream",
          "text": [
            "king - man = ? - woman\n"
          ],
          "name": "stdout"
        },
        {
          "output_type": "execute_result",
          "data": {
            "text/plain": [
              "[('Queen', 0.47597557306289673),\n",
              " ('queen', 0.4628932476043701),\n",
              " ('crown', 0.44457292556762695),\n",
              " ('crowned', 0.4357331395149231),\n",
              " ('fools', 0.4278017282485962),\n",
              " ('kings', 0.4216810464859009),\n",
              " ('sweetest', 0.42113667726516724),\n",
              " ('crowns', 0.4130510687828064),\n",
              " ('desperado', 0.41293561458587646),\n",
              " ('weeping', 0.40486544370651245)]"
            ]
          },
          "metadata": {
            "tags": []
          },
          "execution_count": 26
        }
      ]
    },
    {
      "cell_type": "code",
      "metadata": {
        "id": "xFS_eGiLNE6U",
        "outputId": "7477c0f8-426c-4747-c4df-d927af162a38",
        "colab": {
          "base_uri": "https://localhost:8080/",
          "height": 51
        }
      },
      "source": [
        "text = \"machine-washabled\"\n",
        "print(\"machine-washabled有在字典裡?\", text in model.wv.vocab)\n",
        "model.wv.similarity(text, \"washable\")"
      ],
      "execution_count": null,
      "outputs": [
        {
          "output_type": "stream",
          "text": [
            "machine-washabled有在字典裡? False\n"
          ],
          "name": "stdout"
        },
        {
          "output_type": "execute_result",
          "data": {
            "text/plain": [
              "0.649246"
            ]
          },
          "metadata": {
            "tags": []
          },
          "execution_count": 28
        }
      ]
    }
  ]
}