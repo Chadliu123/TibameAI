{
  "nbformat": 4,
  "nbformat_minor": 0,
  "metadata": {
    "colab": {
      "name": "News.ipynb",
      "provenance": [],
      "collapsed_sections": [],
      "mount_file_id": "1pfAUwVzkmyzUR36iC0yZ6q8S-7RZH2Ws",
      "authorship_tag": "ABX9TyODkidrUhdzKJ44Bdi4rIl5",
      "include_colab_link": true
    },
    "kernelspec": {
      "name": "python3",
      "display_name": "Python 3"
    }
  },
  "cells": [
    {
      "cell_type": "markdown",
      "metadata": {
        "id": "view-in-github",
        "colab_type": "text"
      },
      "source": [
        "<a href=\"https://colab.research.google.com/github/Chadliu123/TibameAI/blob/main/News.ipynb\" target=\"_parent\"><img src=\"https://colab.research.google.com/assets/colab-badge.svg\" alt=\"Open In Colab\"/></a>"
      ]
    },
    {
      "cell_type": "code",
      "metadata": {
        "id": "MtnFINDRxBiK"
      },
      "source": [
        "# 查看my drive\n",
        "import glob\n",
        "glob.glob(\"drive/My Drive/*\")"
      ],
      "execution_count": null,
      "outputs": []
    },
    {
      "cell_type": "code",
      "metadata": {
        "id": "iPRkFEc4yeXu"
      },
      "source": [
        "# 程式碼解壓縮\n",
        "import zipfile\n",
        "path = \"drive/My Drive/chinese_news_test.zip\"\n",
        "f = zipfile.ZipFile(path)\n",
        "f.extractall()\n",
        "path = \"drive/My Drive/chinese_news_trans.zip\"\n",
        "f = zipfile.ZipFile(path)\n",
        "f.extractall()"
      ],
      "execution_count": null,
      "outputs": []
    },
    {
      "cell_type": "code",
      "metadata": {
        "id": "VCznqagtzlYE",
        "outputId": "19dba412-a55e-4c6e-e3b1-d040c2b231d1",
        "colab": {
          "base_uri": "https://localhost:8080/",
          "height": 419
        }
      },
      "source": [
        "import os\n",
        "import pandas as pd\n",
        "\n",
        "def read_data(base):\n",
        "  contents,targets = [],[]\n",
        "  basedn = os.path.join(base,\"*\")\n",
        "  for dn in glob.glob(basedn):\n",
        "    upper = os.path.join(dn,\"*.TXT\")\n",
        "    lower = os.path.join(dn,\"*.txt\")\n",
        "    for fn in glob.glob(upper) + glob.glob(lower):\n",
        "      with open(fn,\"r\",encoding=\"utf-8\") as f:\n",
        "        contents.append(f.read())\n",
        "      target = os.path.split(dn)[-1]\n",
        "      targets.append(target)\n",
        "  df = pd.DataFrame({\n",
        "      \"content\":contents,\n",
        "      \"target\":targets\n",
        "  })\n",
        "  return df\n",
        "traindf = read_data(\"chinese_news_trans\")\n",
        "testdf = read_data(\"chinese_news_test\")\n",
        "testdf"
      ],
      "execution_count": null,
      "outputs": [
        {
          "output_type": "execute_result",
          "data": {
            "text/html": [
              "<div>\n",
              "<style scoped>\n",
              "    .dataframe tbody tr th:only-of-type {\n",
              "        vertical-align: middle;\n",
              "    }\n",
              "\n",
              "    .dataframe tbody tr th {\n",
              "        vertical-align: top;\n",
              "    }\n",
              "\n",
              "    .dataframe thead th {\n",
              "        text-align: right;\n",
              "    }\n",
              "</style>\n",
              "<table border=\"1\" class=\"dataframe\">\n",
              "  <thead>\n",
              "    <tr style=\"text-align: right;\">\n",
              "      <th></th>\n",
              "      <th>content</th>\n",
              "      <th>target</th>\n",
              "    </tr>\n",
              "  </thead>\n",
              "  <tbody>\n",
              "    <tr>\n",
              "      <th>0</th>\n",
              "      <td>日月光華 -- FDU_E.S.E.精華區文章閱讀\\n-------------------...</td>\n",
              "      <td>環境</td>\n",
              "    </tr>\n",
              "    <tr>\n",
              "      <th>1</th>\n",
              "      <td>日月光華 -- FDU_E.S.E.精華區文章閱讀\\n-------------------...</td>\n",
              "      <td>環境</td>\n",
              "    </tr>\n",
              "    <tr>\n",
              "      <th>2</th>\n",
              "      <td>日月光華 -- FDU_E.S.E.精華區文章閱讀\\n-------------------...</td>\n",
              "      <td>環境</td>\n",
              "    </tr>\n",
              "    <tr>\n",
              "      <th>3</th>\n",
              "      <td>日月光華 -- FDU_E.S.E.精華區文章閱讀\\n-------------------...</td>\n",
              "      <td>環境</td>\n",
              "    </tr>\n",
              "    <tr>\n",
              "      <th>4</th>\n",
              "      <td>日月光華 -- FDU_E.S.E.精華區文章閱讀\\n-------------------...</td>\n",
              "      <td>環境</td>\n",
              "    </tr>\n",
              "    <tr>\n",
              "      <th>...</th>\n",
              "      <td>...</td>\n",
              "      <td>...</td>\n",
              "    </tr>\n",
              "    <tr>\n",
              "      <th>96</th>\n",
              "      <td>日月光華 -- Economics精華區文章閱讀\\n--------------------...</td>\n",
              "      <td>經濟</td>\n",
              "    </tr>\n",
              "    <tr>\n",
              "      <th>97</th>\n",
              "      <td>日月光華 -- Economics精華區文章閱讀\\n--------------------...</td>\n",
              "      <td>經濟</td>\n",
              "    </tr>\n",
              "    <tr>\n",
              "      <th>98</th>\n",
              "      <td>日月光華 -- Economics精華區文章閱讀\\n--------------------...</td>\n",
              "      <td>經濟</td>\n",
              "    </tr>\n",
              "    <tr>\n",
              "      <th>99</th>\n",
              "      <td>日月光華 -- Economics精華區文章閱讀\\n--------------------...</td>\n",
              "      <td>經濟</td>\n",
              "    </tr>\n",
              "    <tr>\n",
              "      <th>100</th>\n",
              "      <td>日月光華 -- Economics精華區文章閱讀\\n--------------------...</td>\n",
              "      <td>經濟</td>\n",
              "    </tr>\n",
              "  </tbody>\n",
              "</table>\n",
              "<p>101 rows × 2 columns</p>\n",
              "</div>"
            ],
            "text/plain": [
              "                                               content target\n",
              "0    日月光華 -- FDU_E.S.E.精華區文章閱讀\\n-------------------...     環境\n",
              "1    日月光華 -- FDU_E.S.E.精華區文章閱讀\\n-------------------...     環境\n",
              "2    日月光華 -- FDU_E.S.E.精華區文章閱讀\\n-------------------...     環境\n",
              "3    日月光華 -- FDU_E.S.E.精華區文章閱讀\\n-------------------...     環境\n",
              "4    日月光華 -- FDU_E.S.E.精華區文章閱讀\\n-------------------...     環境\n",
              "..                                                 ...    ...\n",
              "96   日月光華 -- Economics精華區文章閱讀\\n--------------------...     經濟\n",
              "97   日月光華 -- Economics精華區文章閱讀\\n--------------------...     經濟\n",
              "98   日月光華 -- Economics精華區文章閱讀\\n--------------------...     經濟\n",
              "99   日月光華 -- Economics精華區文章閱讀\\n--------------------...     經濟\n",
              "100  日月光華 -- Economics精華區文章閱讀\\n--------------------...     經濟\n",
              "\n",
              "[101 rows x 2 columns]"
            ]
          },
          "metadata": {
            "tags": []
          },
          "execution_count": 54
        }
      ]
    },
    {
      "cell_type": "code",
      "metadata": {
        "id": "vTfzsxme_-6f",
        "outputId": "0a17fdf8-89cb-4a5b-af8e-44ea3ae5c149",
        "colab": {
          "base_uri": "https://localhost:8080/"
        }
      },
      "source": [
        "# Series.replace({\"李白\":0})\n",
        "# unique/value_counts\n",
        "news = traindf[\"target\"].unique()\n",
        "trans = {w:i for i, w in enumerate(news)}\n",
        "trans_r = {i:w for i, w in enumerate(news)}\n",
        "y_train = traindf[\"target\"].replace(trans)\n",
        "y_test = testdf[\"target\"].replace(trans)\n",
        "y_test"
      ],
      "execution_count": null,
      "outputs": [
        {
          "output_type": "execute_result",
          "data": {
            "text/plain": [
              "0      0\n",
              "1      0\n",
              "2      0\n",
              "3      0\n",
              "4      0\n",
              "      ..\n",
              "96     9\n",
              "97     9\n",
              "98     9\n",
              "99     9\n",
              "100    9\n",
              "Name: target, Length: 101, dtype: int64"
            ]
          },
          "metadata": {
            "tags": []
          },
          "execution_count": 41
        }
      ]
    },
    {
      "cell_type": "code",
      "metadata": {
        "id": "Sq2Bh1R6_5xe",
        "outputId": "e135fef9-6383-46aa-df0f-7be2c9d381ef",
        "colab": {
          "base_uri": "https://localhost:8080/"
        }
      },
      "source": [
        "import jieba\n",
        "from urllib.request import urlretrieve\n",
        "if not os.path.exists(\"dict.txt.big\"):\n",
        "  # 載入jieba定義的字典\n",
        "  url = \"https://github.com/fxsjy/jieba/raw/master/extra_dict/dict.txt.big\"\n",
        "  urlretrieve(url, \"dict.txt.big\")\n",
        "jieba.set_dictionary(\"dict.txt.big\")\n",
        "# apply(函式名字)\n",
        "def newscut(p):\n",
        "    return \" \".join(jieba.cut(p))\n",
        "x_train = traindf[\"content\"].apply(newscut)\n",
        "x_test = testdf[\"content\"].apply(newscut)\n",
        "x_test"
      ],
      "execution_count": null,
      "outputs": [
        {
          "output_type": "stream",
          "text": [
            "Building prefix dict from /content/dict.txt.big ...\n",
            "Dumping model to file cache /tmp/jieba.u501edca284da514cb68b53a20324f4e3.cache\n",
            "Loading model cost 1.559 seconds.\n",
            "Prefix dict has been built successfully.\n"
          ],
          "name": "stderr"
        },
        {
          "output_type": "execute_result",
          "data": {
            "text/plain": [
              "0      日月 光華   --   FDU _ E . S . E . 精華區 文章 閱讀 \\n --...\n",
              "1      日月 光華   --   FDU _ E . S . E . 精華區 文章 閱讀 \\n --...\n",
              "2      日月 光華   --   FDU _ E . S . E . 精華區 文章 閱讀 \\n --...\n",
              "3      日月 光華   --   FDU _ E . S . E . 精華區 文章 閱讀 \\n --...\n",
              "4      日月 光華   --   FDU _ E . S . E . 精華區 文章 閱讀 \\n --...\n",
              "                             ...                        \n",
              "96     日月 光華   --   Economics 精華區 文章 閱讀 \\n ----------...\n",
              "97     日月 光華   --   Economics 精華區 文章 閱讀 \\n ----------...\n",
              "98     日月 光華   --   Economics 精華區 文章 閱讀 \\n ----------...\n",
              "99     日月 光華   --   Economics 精華區 文章 閱讀 \\n ----------...\n",
              "100    日月 光華   --   Economics 精華區 文章 閱讀 \\n ----------...\n",
              "Name: content, Length: 101, dtype: object"
            ]
          },
          "metadata": {
            "tags": []
          },
          "execution_count": 42
        }
      ]
    },
    {
      "cell_type": "code",
      "metadata": {
        "id": "E9G6V1XwAKDL"
      },
      "source": [
        "from sklearn.feature_extraction.text import CountVectorizer\n",
        "vec = CountVectorizer()\n",
        "x_train_count = vec.fit_transform(x_train)\n",
        "x_test_count = vec.transform(x_test)\n",
        "print(x_train_count)"
      ],
      "execution_count": null,
      "outputs": []
    },
    {
      "cell_type": "code",
      "metadata": {
        "id": "uqu-dSQ1AX6r",
        "outputId": "b972b982-6922-4425-820e-a7894cf27bd6",
        "colab": {
          "base_uri": "https://localhost:8080/"
        }
      },
      "source": [
        "from sklearn.naive_bayes import MultinomialNB\n",
        "clf = MultinomialNB(alpha=0.1)\n",
        "clf.fit(x_train_count,y_train)"
      ],
      "execution_count": null,
      "outputs": [
        {
          "output_type": "execute_result",
          "data": {
            "text/plain": [
              "MultinomialNB(alpha=0.1, class_prior=None, fit_prior=True)"
            ]
          },
          "metadata": {
            "tags": []
          },
          "execution_count": 46
        }
      ]
    },
    {
      "cell_type": "code",
      "metadata": {
        "id": "JbqBfd47AYTS",
        "outputId": "98338f13-327a-4d85-8dd9-195a111ed493",
        "colab": {
          "base_uri": "https://localhost:8080/"
        }
      },
      "source": [
        "from sklearn.metrics import accuracy_score\n",
        "pre = clf.predict(x_test_count)\n",
        "accuracy_score(pre,y_test)"
      ],
      "execution_count": null,
      "outputs": [
        {
          "output_type": "execute_result",
          "data": {
            "text/plain": [
              "1.0"
            ]
          },
          "metadata": {
            "tags": []
          },
          "execution_count": 47
        }
      ]
    },
    {
      "cell_type": "code",
      "metadata": {
        "id": "KrToEN2LAaSK",
        "outputId": "ad5fed9a-90b8-460c-810f-62f9c85245d0",
        "colab": {
          "base_uri": "https://localhost:8080/",
          "height": 359
        }
      },
      "source": [
        "from sklearn.metrics import confusion_matrix\n",
        "mat = confusion_matrix(y_test,pre)\n",
        "pd.DataFrame(mat,\n",
        "      index=[name+\"(原本)\" for name in news],\n",
        "      columns=[name+\"(預測)\" for name in news])"
      ],
      "execution_count": null,
      "outputs": [
        {
          "output_type": "execute_result",
          "data": {
            "text/html": [
              "<div>\n",
              "<style scoped>\n",
              "    .dataframe tbody tr th:only-of-type {\n",
              "        vertical-align: middle;\n",
              "    }\n",
              "\n",
              "    .dataframe tbody tr th {\n",
              "        vertical-align: top;\n",
              "    }\n",
              "\n",
              "    .dataframe thead th {\n",
              "        text-align: right;\n",
              "    }\n",
              "</style>\n",
              "<table border=\"1\" class=\"dataframe\">\n",
              "  <thead>\n",
              "    <tr style=\"text-align: right;\">\n",
              "      <th></th>\n",
              "      <th>環境(預測)</th>\n",
              "      <th>體育(預測)</th>\n",
              "      <th>交通(預測)</th>\n",
              "      <th>醫藥(預測)</th>\n",
              "      <th>軍事(預測)</th>\n",
              "      <th>藝術(預測)</th>\n",
              "      <th>計算機(預測)</th>\n",
              "      <th>教育(預測)</th>\n",
              "      <th>政治(預測)</th>\n",
              "      <th>經濟(預測)</th>\n",
              "    </tr>\n",
              "  </thead>\n",
              "  <tbody>\n",
              "    <tr>\n",
              "      <th>環境(原本)</th>\n",
              "      <td>10</td>\n",
              "      <td>0</td>\n",
              "      <td>0</td>\n",
              "      <td>0</td>\n",
              "      <td>0</td>\n",
              "      <td>0</td>\n",
              "      <td>0</td>\n",
              "      <td>0</td>\n",
              "      <td>0</td>\n",
              "      <td>0</td>\n",
              "    </tr>\n",
              "    <tr>\n",
              "      <th>體育(原本)</th>\n",
              "      <td>0</td>\n",
              "      <td>10</td>\n",
              "      <td>0</td>\n",
              "      <td>0</td>\n",
              "      <td>0</td>\n",
              "      <td>0</td>\n",
              "      <td>0</td>\n",
              "      <td>0</td>\n",
              "      <td>0</td>\n",
              "      <td>0</td>\n",
              "    </tr>\n",
              "    <tr>\n",
              "      <th>交通(原本)</th>\n",
              "      <td>0</td>\n",
              "      <td>0</td>\n",
              "      <td>10</td>\n",
              "      <td>0</td>\n",
              "      <td>0</td>\n",
              "      <td>0</td>\n",
              "      <td>0</td>\n",
              "      <td>0</td>\n",
              "      <td>0</td>\n",
              "      <td>0</td>\n",
              "    </tr>\n",
              "    <tr>\n",
              "      <th>醫藥(原本)</th>\n",
              "      <td>0</td>\n",
              "      <td>0</td>\n",
              "      <td>0</td>\n",
              "      <td>10</td>\n",
              "      <td>0</td>\n",
              "      <td>0</td>\n",
              "      <td>0</td>\n",
              "      <td>0</td>\n",
              "      <td>0</td>\n",
              "      <td>0</td>\n",
              "    </tr>\n",
              "    <tr>\n",
              "      <th>軍事(原本)</th>\n",
              "      <td>0</td>\n",
              "      <td>0</td>\n",
              "      <td>0</td>\n",
              "      <td>0</td>\n",
              "      <td>10</td>\n",
              "      <td>0</td>\n",
              "      <td>0</td>\n",
              "      <td>0</td>\n",
              "      <td>0</td>\n",
              "      <td>0</td>\n",
              "    </tr>\n",
              "    <tr>\n",
              "      <th>藝術(原本)</th>\n",
              "      <td>0</td>\n",
              "      <td>0</td>\n",
              "      <td>0</td>\n",
              "      <td>0</td>\n",
              "      <td>0</td>\n",
              "      <td>10</td>\n",
              "      <td>0</td>\n",
              "      <td>0</td>\n",
              "      <td>0</td>\n",
              "      <td>0</td>\n",
              "    </tr>\n",
              "    <tr>\n",
              "      <th>計算機(原本)</th>\n",
              "      <td>0</td>\n",
              "      <td>0</td>\n",
              "      <td>0</td>\n",
              "      <td>0</td>\n",
              "      <td>0</td>\n",
              "      <td>0</td>\n",
              "      <td>10</td>\n",
              "      <td>0</td>\n",
              "      <td>0</td>\n",
              "      <td>0</td>\n",
              "    </tr>\n",
              "    <tr>\n",
              "      <th>教育(原本)</th>\n",
              "      <td>0</td>\n",
              "      <td>0</td>\n",
              "      <td>0</td>\n",
              "      <td>0</td>\n",
              "      <td>0</td>\n",
              "      <td>0</td>\n",
              "      <td>0</td>\n",
              "      <td>10</td>\n",
              "      <td>0</td>\n",
              "      <td>0</td>\n",
              "    </tr>\n",
              "    <tr>\n",
              "      <th>政治(原本)</th>\n",
              "      <td>0</td>\n",
              "      <td>0</td>\n",
              "      <td>0</td>\n",
              "      <td>0</td>\n",
              "      <td>0</td>\n",
              "      <td>0</td>\n",
              "      <td>0</td>\n",
              "      <td>0</td>\n",
              "      <td>11</td>\n",
              "      <td>0</td>\n",
              "    </tr>\n",
              "    <tr>\n",
              "      <th>經濟(原本)</th>\n",
              "      <td>0</td>\n",
              "      <td>0</td>\n",
              "      <td>0</td>\n",
              "      <td>0</td>\n",
              "      <td>0</td>\n",
              "      <td>0</td>\n",
              "      <td>0</td>\n",
              "      <td>0</td>\n",
              "      <td>0</td>\n",
              "      <td>10</td>\n",
              "    </tr>\n",
              "  </tbody>\n",
              "</table>\n",
              "</div>"
            ],
            "text/plain": [
              "         環境(預測)  體育(預測)  交通(預測)  醫藥(預測)  ...  計算機(預測)  教育(預測)  政治(預測)  經濟(預測)\n",
              "環境(原本)       10       0       0       0  ...        0       0       0       0\n",
              "體育(原本)        0      10       0       0  ...        0       0       0       0\n",
              "交通(原本)        0       0      10       0  ...        0       0       0       0\n",
              "醫藥(原本)        0       0       0      10  ...        0       0       0       0\n",
              "軍事(原本)        0       0       0       0  ...        0       0       0       0\n",
              "藝術(原本)        0       0       0       0  ...        0       0       0       0\n",
              "計算機(原本)       0       0       0       0  ...       10       0       0       0\n",
              "教育(原本)        0       0       0       0  ...        0      10       0       0\n",
              "政治(原本)        0       0       0       0  ...        0       0      11       0\n",
              "經濟(原本)        0       0       0       0  ...        0       0       0      10\n",
              "\n",
              "[10 rows x 10 columns]"
            ]
          },
          "metadata": {
            "tags": []
          },
          "execution_count": 49
        }
      ]
    },
    {
      "cell_type": "code",
      "metadata": {
        "id": "VdZY37ueDcH9",
        "outputId": "90f3ded2-4972-42dc-93d6-42f9ebf1da1c",
        "colab": {
          "base_uri": "https://localhost:8080/"
        }
      },
      "source": [
        "p = input(\"輸入一首新聞:\")\n",
        "x_predict = vec.transform([newscut(p)])\n",
        "proba = clf.predict_proba(x_predict)[0]\n",
        "for w, p in zip(news, proba):\n",
        "    print(w, \":\", round(p, 4))"
      ],
      "execution_count": null,
      "outputs": [
        {
          "output_type": "stream",
          "text": [
            "輸入一首新聞:川普確診\n",
            "環境 : 0.0193\n",
            "體育 : 0.0357\n",
            "交通 : 0.0239\n",
            "醫藥 : 0.812\n",
            "軍事 : 0.0213\n",
            "藝術 : 0.0125\n",
            "計算機 : 0.0072\n",
            "教育 : 0.0119\n",
            "政治 : 0.0426\n",
            "經濟 : 0.0137\n"
          ],
          "name": "stdout"
        }
      ]
    }
  ]
}