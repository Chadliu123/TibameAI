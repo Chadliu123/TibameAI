{
  "nbformat": 4,
  "nbformat_minor": 0,
  "metadata": {
    "colab": {
      "name": "sentiment.ipynb",
      "provenance": [],
      "collapsed_sections": [],
      "authorship_tag": "ABX9TyN3aistuQ9w/VX0VRywGV4e",
      "include_colab_link": true
    },
    "kernelspec": {
      "name": "python3",
      "display_name": "Python 3"
    },
    "accelerator": "GPU"
  },
  "cells": [
    {
      "cell_type": "markdown",
      "metadata": {
        "id": "view-in-github",
        "colab_type": "text"
      },
      "source": [
        "<a href=\"https://colab.research.google.com/github/Chadliu123/TibameAI/blob/main/sentiment.ipynb\" target=\"_parent\"><img src=\"https://colab.research.google.com/assets/colab-badge.svg\" alt=\"Open In Colab\"/></a>"
      ]
    },
    {
      "cell_type": "code",
      "metadata": {
        "id": "43umbikEzB8s",
        "outputId": "84b7d00d-2ba6-4b9c-c1ed-83dd066ac09b",
        "colab": {
          "base_uri": "https://localhost:8080/",
          "height": 35
        }
      },
      "source": [
        "\"-\".join(map(str, [1, 2, 3, 4, 5]))"
      ],
      "execution_count": null,
      "outputs": [
        {
          "output_type": "execute_result",
          "data": {
            "application/vnd.google.colaboratory.intrinsic+json": {
              "type": "string"
            },
            "text/plain": [
              "'1-2-3-4-5'"
            ]
          },
          "metadata": {
            "tags": []
          },
          "execution_count": 3
        }
      ]
    },
    {
      "cell_type": "code",
      "metadata": {
        "id": "R0fVxi7lq3r-",
        "outputId": "15987857-f14c-4077-e214-32df5d48eecc",
        "colab": {
          "base_uri": "https://localhost:8080/",
          "height": 51
        }
      },
      "source": [
        "import tensorflow as tf\n",
        "\n",
        "dataset = tf.keras.utils.get_file(\n",
        "    fname=\"aclImdb.tar.gz\",\n",
        "    origin=\"http://ai.stanford.edu/~amaas/data/sentiment/aclImdb_v1.tar.gz\", \n",
        "    extract=True,\n",
        ")"
      ],
      "execution_count": null,
      "outputs": [
        {
          "output_type": "stream",
          "text": [
            "Downloading data from http://ai.stanford.edu/~amaas/data/sentiment/aclImdb_v1.tar.gz\n",
            "84131840/84125825 [==============================] - 3s 0us/step\n"
          ],
          "name": "stdout"
        }
      ]
    },
    {
      "cell_type": "code",
      "metadata": {
        "id": "TViYb_hkwiVR"
      },
      "source": [
        "import glob\n",
        "# glob.glob(\"/root/.keras/datasets/aclImdb/train/pos/*\")\n",
        "import os\n",
        "import pandas as pd\n",
        "\n",
        "def read(path):\n",
        "    with open(path, \"r\", encoding=\"utf-8\") as f:\n",
        "      content = f.read()\n",
        "    return content\n",
        "\n",
        "def get_data(t):\n",
        "    dn = os.path.dirname(dataset)\n",
        "    pattern = os.path.join(dn, \"aclImdb\", t, \"pos\", \"*.txt\")\n",
        "    pos = glob.glob(pattern)\n",
        "    pattern = os.path.join(dn, \"aclImdb\", t, \"neg\", \"*.txt\")\n",
        "    neg = glob.glob(pattern)\n",
        "    sentiments = [1] * len(pos) + [0] * len(neg)\n",
        "    contents = map(read, pos + neg)\n",
        "    df = pd.DataFrame({\n",
        "        \"contents\":contents,\n",
        "        \"sentiment\":sentiments\n",
        "    })\n",
        "    return df\n",
        "\n",
        "traindf = get_data(\"train\")\n",
        "testdf = get_data(\"test\")\n",
        "testdf"
      ],
      "execution_count": null,
      "outputs": []
    },
    {
      "cell_type": "code",
      "metadata": {
        "id": "pD5U1PbfmSjI"
      },
      "source": [
        "TOK = 3000\n",
        "LEN = 512\n",
        "EM = 128"
      ],
      "execution_count": null,
      "outputs": []
    },
    {
      "cell_type": "code",
      "metadata": {
        "id": "GkoPto-Z1gbx"
      },
      "source": [
        "from tensorflow.keras.preprocessing.text import Tokenizer\n",
        "tok = Tokenizer(num_words=3000)\n",
        "# fit_on_texts: fit_transform的fit\n",
        "tok.fit_on_texts(traindf[\"contents\"])\n",
        "# seq: 把所有單字換成數字的序列\n",
        "x_train_seq = tok.texts_to_sequences(traindf[\"contents\"])\n",
        "x_test_seq = tok.texts_to_sequences(testdf[\"contents\"])"
      ],
      "execution_count": null,
      "outputs": []
    },
    {
      "cell_type": "code",
      "metadata": {
        "id": "Rnf_s7dO41sO",
        "outputId": "f49f6fed-a3cd-48a0-877f-03a31e4f2d5f",
        "colab": {
          "base_uri": "https://localhost:8080/",
          "height": 35
        }
      },
      "source": [
        "# tok.word_index\n",
        "tok.index_word[2]"
      ],
      "execution_count": null,
      "outputs": [
        {
          "output_type": "execute_result",
          "data": {
            "application/vnd.google.colaboratory.intrinsic+json": {
              "type": "string"
            },
            "text/plain": [
              "'and'"
            ]
          },
          "metadata": {
            "tags": []
          },
          "execution_count": 7
        }
      ]
    },
    {
      "cell_type": "code",
      "metadata": {
        "id": "BfwdOtkb-dQp"
      },
      "source": [
        "# pd.DataFrame(train_df_seq)\n",
        "# truncating: pre 12345 -> 45 post 12345 -> 12\n",
        "from tensorflow.keras.preprocessing.sequence import pad_sequences\n",
        "x_train_pad = pad_sequences(x_train_seq, 512)\n",
        "x_test_pad = pad_sequences(x_test_seq, 512)\n",
        "pd.DataFrame(x_test_pad)"
      ],
      "execution_count": null,
      "outputs": []
    },
    {
      "cell_type": "code",
      "metadata": {
        "id": "B00khgjM_Fhr",
        "outputId": "320ce342-57a1-4ad4-90de-ed651f5e2d36",
        "colab": {
          "base_uri": "https://localhost:8080/",
          "height": 255
        }
      },
      "source": [
        "from tensorflow.keras.models import Sequential\n",
        "from tensorflow.keras.layers import Embedding, GlobalAveragePooling1D\n",
        "from tensorflow.keras.layers import Dense, Flatten, Dropout\n",
        "\n",
        "layers = [\n",
        "  # 1~3000(token) + 0(padding)\n",
        "  # params: 3001 * 128\n",
        "  Embedding(TOK+1, EM, mask_zero=True, input_length=LEN),\n",
        "  GlobalAveragePooling1D(),\n",
        "  Dense(2, activation=\"softmax\")  \n",
        "]\n",
        "model = Sequential(layers)\n",
        "model.summary()"
      ],
      "execution_count": null,
      "outputs": [
        {
          "output_type": "stream",
          "text": [
            "Model: \"sequential_1\"\n",
            "_________________________________________________________________\n",
            "Layer (type)                 Output Shape              Param #   \n",
            "=================================================================\n",
            "embedding_2 (Embedding)      (None, 512, 128)          384128    \n",
            "_________________________________________________________________\n",
            "global_average_pooling1d (Gl (None, 128)               0         \n",
            "_________________________________________________________________\n",
            "dense_2 (Dense)              (None, 2)                 258       \n",
            "=================================================================\n",
            "Total params: 384,386\n",
            "Trainable params: 384,386\n",
            "Non-trainable params: 0\n",
            "_________________________________________________________________\n"
          ],
          "name": "stdout"
        }
      ]
    },
    {
      "cell_type": "code",
      "metadata": {
        "id": "hrHdRw8SFQwJ"
      },
      "source": [
        "from tensorflow.keras.losses import SparseCategoricalCrossentropy\n",
        "from tensorflow.keras.optimizers import Adam\n",
        "model.compile(loss=SparseCategoricalCrossentropy(),\n",
        "       optimizer=Adam(),\n",
        "       metrics=[\"accuracy\"])"
      ],
      "execution_count": null,
      "outputs": []
    },
    {
      "cell_type": "code",
      "metadata": {
        "id": "lfM7CvLuFUDe"
      },
      "source": [
        "y_train = traindf[\"sentiment\"]\n",
        "y_test = testdf[\"sentiment\"]"
      ],
      "execution_count": null,
      "outputs": []
    },
    {
      "cell_type": "code",
      "metadata": {
        "id": "huuFqIkOGgDV",
        "outputId": "be29b817-6829-4ffc-dfba-cd8084e15e4f",
        "colab": {
          "base_uri": "https://localhost:8080/",
          "height": 272
        }
      },
      "source": [
        "# epoch: 整份資料要看幾遍\n",
        "# 60000筆, 2epoch, 200batch -> 60000 * 2 / 200次調整\n",
        "from tensorflow.keras.callbacks import EarlyStopping, ModelCheckpoint\n",
        "callbacks = [\n",
        "    ModelCheckpoint(\"model.h5\", save_best_only=True),\n",
        "    EarlyStopping(patience=5, restore_best_weights=True)\n",
        "]\n",
        "model.fit(x_train_pad, \n",
        "     y_train,\n",
        "     batch_size=100,\n",
        "     epochs=50,\n",
        "     validation_split=0.1,\n",
        "     callbacks=callbacks,\n",
        "     verbose=2)"
      ],
      "execution_count": null,
      "outputs": [
        {
          "output_type": "stream",
          "text": [
            "Epoch 1/50\n",
            "225/225 - 5s - loss: 0.4822 - accuracy: 0.7609 - val_loss: 0.4393 - val_accuracy: 0.8092\n",
            "Epoch 2/50\n",
            "225/225 - 5s - loss: 0.1709 - accuracy: 0.9366 - val_loss: 0.3355 - val_accuracy: 0.8604\n",
            "Epoch 3/50\n",
            "225/225 - 5s - loss: 0.0387 - accuracy: 0.9913 - val_loss: 0.4962 - val_accuracy: 0.8472\n",
            "Epoch 4/50\n",
            "225/225 - 5s - loss: 0.0062 - accuracy: 0.9995 - val_loss: 0.6840 - val_accuracy: 0.8300\n",
            "Epoch 5/50\n",
            "225/225 - 5s - loss: 0.0014 - accuracy: 1.0000 - val_loss: 0.6879 - val_accuracy: 0.8424\n",
            "Epoch 6/50\n",
            "225/225 - 5s - loss: 6.0663e-04 - accuracy: 1.0000 - val_loss: 0.7987 - val_accuracy: 0.8320\n",
            "Epoch 7/50\n",
            "225/225 - 5s - loss: 3.5011e-04 - accuracy: 1.0000 - val_loss: 0.7900 - val_accuracy: 0.8388\n"
          ],
          "name": "stdout"
        },
        {
          "output_type": "execute_result",
          "data": {
            "text/plain": [
              "<tensorflow.python.keras.callbacks.History at 0x7f5d3201dfd0>"
            ]
          },
          "metadata": {
            "tags": []
          },
          "execution_count": 14
        }
      ]
    },
    {
      "cell_type": "code",
      "metadata": {
        "id": "7bkRS4LUGiJw",
        "outputId": "bbb6017f-ca78-4949-ef6d-ed705b71df41",
        "colab": {
          "base_uri": "https://localhost:8080/",
          "height": 51
        }
      },
      "source": [
        "model.evaluate(x_test_pad, y_test)"
      ],
      "execution_count": null,
      "outputs": [
        {
          "output_type": "stream",
          "text": [
            "782/782 [==============================] - 3s 4ms/step - loss: 0.3146 - accuracy: 0.8687\n"
          ],
          "name": "stdout"
        },
        {
          "output_type": "execute_result",
          "data": {
            "text/plain": [
              "[0.3146132528781891, 0.8687199950218201]"
            ]
          },
          "metadata": {
            "tags": []
          },
          "execution_count": 15
        }
      ]
    },
    {
      "cell_type": "code",
      "metadata": {
        "id": "DI1IJYlMlZvR",
        "outputId": "98071885-b2bd-473b-a3fe-45b095595eca",
        "colab": {
          "base_uri": "https://localhost:8080/",
          "height": 221
        }
      },
      "source": [
        "layers = [\n",
        "  Embedding(TOK+1, EM, mask_zero=True),\n",
        "  GlobalAveragePooling1D()\n",
        "]\n",
        "w = model.layers[0].get_weights()\n",
        "infer = Sequential(layers)\n",
        "infer.layers[0].set_weights(w)\n",
        "infer.summary()"
      ],
      "execution_count": null,
      "outputs": [
        {
          "output_type": "stream",
          "text": [
            "Model: \"sequential_2\"\n",
            "_________________________________________________________________\n",
            "Layer (type)                 Output Shape              Param #   \n",
            "=================================================================\n",
            "embedding_3 (Embedding)      (None, None, 128)         384128    \n",
            "_________________________________________________________________\n",
            "global_average_pooling1d_1 ( (None, 128)               0         \n",
            "=================================================================\n",
            "Total params: 384,128\n",
            "Trainable params: 384,128\n",
            "Non-trainable params: 0\n",
            "_________________________________________________________________\n"
          ],
          "name": "stdout"
        }
      ]
    },
    {
      "cell_type": "code",
      "metadata": {
        "id": "IPmLPStOmA5p",
        "outputId": "2a855a1c-88e2-44da-8f66-d115943cb924",
        "colab": {
          "base_uri": "https://localhost:8080/",
          "height": 459
        }
      },
      "source": [
        "# w\n",
        "# infer.layers[0].get_weights()\n",
        "# 25000, 512\n",
        "# [512list, 512list]\n",
        "target = \"the\"\n",
        "# [1list]\n",
        "pre = infer.predict([[tok.word_index[target]]])\n",
        "pre[0]"
      ],
      "execution_count": null,
      "outputs": [
        {
          "output_type": "execute_result",
          "data": {
            "text/plain": [
              "array([-0.01413893, -0.02599616,  0.04677478, -0.0239989 ,  0.04429387,\n",
              "        0.00356539,  0.04542689, -0.03761591, -0.02235222,  0.00871463,\n",
              "       -0.00211833, -0.00362252, -0.00377093,  0.03827894,  0.0457781 ,\n",
              "        0.03480729, -0.01083549,  0.03760238,  0.04094679, -0.01250048,\n",
              "        0.03123139,  0.01425325,  0.04426681,  0.0460353 , -0.02688274,\n",
              "        0.03817122,  0.04568637,  0.01241342,  0.03202368, -0.00508547,\n",
              "       -0.01276767, -0.02725678, -0.04598273, -0.03685294,  0.04527522,\n",
              "       -0.03414955,  0.01529148,  0.01422014,  0.03154403, -0.0176141 ,\n",
              "        0.04339239,  0.03712037, -0.04213715, -0.02416993,  0.03686471,\n",
              "        0.00011513,  0.0380785 ,  0.01568823, -0.02032567, -0.0111946 ,\n",
              "        0.04858376, -0.01775031,  0.02428801, -0.04429708,  0.0137257 ,\n",
              "       -0.02177798,  0.00864636, -0.04281788, -0.04455842, -0.0277067 ,\n",
              "        0.03669086, -0.02449844, -0.02120966,  0.01028173,  0.04728096,\n",
              "        0.00080613,  0.00246583, -0.04640976, -0.04182769,  0.0397687 ,\n",
              "       -0.00388487, -0.02087988,  0.04435137,  0.00163031, -0.01292061,\n",
              "       -0.02963459,  0.01295625,  0.00311838,  0.04331661,  0.02477671,\n",
              "        0.02145392,  0.0420089 ,  0.04373078, -0.02784826,  0.00382253,\n",
              "        0.04253844,  0.00521073,  0.04277852, -0.03238289, -0.00473074,\n",
              "       -0.00297049,  0.03994465,  0.04188089, -0.03940289,  0.01144312,\n",
              "        0.0228391 ,  0.03199324,  0.00562656, -0.04867454,  0.02279479,\n",
              "        0.01424137,  0.01711484,  0.03493354,  0.01626908,  0.01885236,\n",
              "        0.01817027,  0.03511271,  0.023029  , -0.01886213,  0.03762687,\n",
              "        0.03291527, -0.01889697, -0.02563846,  0.00758314, -0.02256296,\n",
              "       -0.02305096,  0.01590222,  0.0199792 ,  0.01921936, -0.03245863,\n",
              "       -0.04303455, -0.02550211, -0.02782257,  0.01526416, -0.03182365,\n",
              "       -0.00744145, -0.0351886 ,  0.02287403], dtype=float32)"
            ]
          },
          "metadata": {
            "tags": []
          },
          "execution_count": 23
        }
      ]
    },
    {
      "cell_type": "code",
      "metadata": {
        "id": "efXn2cjemkW5"
      },
      "source": [
        "f = open(\"vec.txt\", \"w\", encoding=\"utf-8\")\n",
        "f.write(\"{} {}\\n\".format(TOK, EM))\n",
        "for i in range(1, TOK+1):\n",
        "    # [1list]\n",
        "    pre = infer.predict([[i]])[0]\n",
        "    v = \" \".join(map(str, pre))\n",
        "    f.write(\"{} {}\\n\".format(tok.index_word[i], v))\n",
        "f.close()"
      ],
      "execution_count": null,
      "outputs": []
    },
    {
      "cell_type": "code",
      "metadata": {
        "id": "y8UTUXuMtWTe"
      },
      "source": [
        "from gensim.models import KeyedVectors\n",
        "w2v = KeyedVectors.load_word2vec_format(\"vec.txt\")"
      ],
      "execution_count": null,
      "outputs": []
    },
    {
      "cell_type": "code",
      "metadata": {
        "id": "ltolwOJatX3a"
      },
      "source": [
        "w2v.wv.vocab"
      ],
      "execution_count": null,
      "outputs": []
    },
    {
      "cell_type": "code",
      "metadata": {
        "id": "TpPqBLfJtZg0",
        "outputId": "a8900b2f-dc72-45e9-935c-b75834a465a0",
        "colab": {
          "base_uri": "https://localhost:8080/",
          "height": 241
        }
      },
      "source": [
        "# 詞彙列表: w2v.wv.vocab\n",
        "w2v.most_similar(\"girl\")"
      ],
      "execution_count": null,
      "outputs": [
        {
          "output_type": "stream",
          "text": [
            "/usr/local/lib/python3.6/dist-packages/gensim/matutils.py:737: FutureWarning: Conversion of the second argument of issubdtype from `int` to `np.signedinteger` is deprecated. In future, it will be treated as `np.int64 == np.dtype(int).type`.\n",
            "  if np.issubdtype(vec.dtype, np.int):\n"
          ],
          "name": "stderr"
        },
        {
          "output_type": "execute_result",
          "data": {
            "text/plain": [
              "[('again', 0.30507028102874756),\n",
              " ('trying', 0.28944408893585205),\n",
              " ('inept', 0.28015726804733276),\n",
              " ('able', 0.26081621646881104),\n",
              " ('technically', 0.25740694999694824),\n",
              " ('regret', 0.25650230050086975),\n",
              " ('dreadful', 0.251526802778244),\n",
              " ('strangely', 0.24714136123657227),\n",
              " ('they', 0.2462022602558136),\n",
              " ('correct', 0.24391251802444458)]"
            ]
          },
          "metadata": {
            "tags": []
          },
          "execution_count": 33
        }
      ]
    }
  ]
}