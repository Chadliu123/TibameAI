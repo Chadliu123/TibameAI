{
  "nbformat": 4,
  "nbformat_minor": 0,
  "metadata": {
    "colab": {
      "name": "regression.ipynb",
      "provenance": [],
      "collapsed_sections": [],
      "authorship_tag": "ABX9TyNndFQOU1w57zwx5rvBfGzx",
      "include_colab_link": true
    },
    "kernelspec": {
      "name": "python3",
      "display_name": "Python 3"
    }
  },
  "cells": [
    {
      "cell_type": "markdown",
      "metadata": {
        "id": "view-in-github",
        "colab_type": "text"
      },
      "source": [
        "<a href=\"https://colab.research.google.com/github/Chadliu123/TibameAI/blob/main/regression.ipynb\" target=\"_parent\"><img src=\"https://colab.research.google.com/assets/colab-badge.svg\" alt=\"Open In Colab\"/></a>"
      ]
    },
    {
      "cell_type": "markdown",
      "metadata": {
        "id": "LvuVNX0BFAy4"
      },
      "source": [
        "CRIM：人均犯罪率\n",
        "\n",
        "ZN：25,000平方英尺以上民用土地的比例\n",
        "\n",
        "INDUS：城镇非零售业商用土地比例\n",
        "\n",
        "CHAS：是否邻近查尔斯河，1是邻近，0是不邻近\n",
        "\n",
        "NOX：一氧化氮浓度（千万分之一）\n",
        "\n",
        "RM：住宅的平均房间数\n",
        "\n",
        "AGE：自住且建于1940年前的房屋比例\n",
        "\n",
        "DIS：到5个波士顿就业中心的加权距离\n",
        "\n",
        "RAD：到高速公路的便捷度指数\n",
        "\n",
        "TAX：每万元的房产税率\n",
        "\n",
        "PTRATIO：城镇学生教师比例\n",
        "\n",
        "B： 1000(Bk − 0.63)2 其中Bk是城镇中黑人比例\n",
        "\n",
        "LSTAT：低收入人群比例\n",
        "\n",
        "ans：自住房中位数价格，单位是千元 "
      ]
    },
    {
      "cell_type": "code",
      "metadata": {
        "id": "TUvC_1dm5ZRE",
        "outputId": "73f2e137-f4c1-4983-9fd2-94794b4daecb",
        "colab": {
          "base_uri": "https://localhost:8080/",
          "height": 419
        }
      },
      "source": [
        "import pandas as pd\n",
        "from sklearn.datasets import load_boston\n",
        "pd.options.display.max_rows = 20\n",
        "boston = load_boston()\n",
        "df = pd.DataFrame(boston[\"data\"], columns = boston[\"feature_names\"])\n",
        "df[\"target\"] = boston[\"target\"]\n",
        "df"
      ],
      "execution_count": null,
      "outputs": [
        {
          "output_type": "execute_result",
          "data": {
            "text/html": [
              "<div>\n",
              "<style scoped>\n",
              "    .dataframe tbody tr th:only-of-type {\n",
              "        vertical-align: middle;\n",
              "    }\n",
              "\n",
              "    .dataframe tbody tr th {\n",
              "        vertical-align: top;\n",
              "    }\n",
              "\n",
              "    .dataframe thead th {\n",
              "        text-align: right;\n",
              "    }\n",
              "</style>\n",
              "<table border=\"1\" class=\"dataframe\">\n",
              "  <thead>\n",
              "    <tr style=\"text-align: right;\">\n",
              "      <th></th>\n",
              "      <th>CRIM</th>\n",
              "      <th>ZN</th>\n",
              "      <th>INDUS</th>\n",
              "      <th>CHAS</th>\n",
              "      <th>NOX</th>\n",
              "      <th>RM</th>\n",
              "      <th>AGE</th>\n",
              "      <th>DIS</th>\n",
              "      <th>RAD</th>\n",
              "      <th>TAX</th>\n",
              "      <th>PTRATIO</th>\n",
              "      <th>B</th>\n",
              "      <th>LSTAT</th>\n",
              "      <th>target</th>\n",
              "    </tr>\n",
              "  </thead>\n",
              "  <tbody>\n",
              "    <tr>\n",
              "      <th>0</th>\n",
              "      <td>0.00632</td>\n",
              "      <td>18.0</td>\n",
              "      <td>2.31</td>\n",
              "      <td>0.0</td>\n",
              "      <td>0.538</td>\n",
              "      <td>6.575</td>\n",
              "      <td>65.2</td>\n",
              "      <td>4.0900</td>\n",
              "      <td>1.0</td>\n",
              "      <td>296.0</td>\n",
              "      <td>15.3</td>\n",
              "      <td>396.90</td>\n",
              "      <td>4.98</td>\n",
              "      <td>24.0</td>\n",
              "    </tr>\n",
              "    <tr>\n",
              "      <th>1</th>\n",
              "      <td>0.02731</td>\n",
              "      <td>0.0</td>\n",
              "      <td>7.07</td>\n",
              "      <td>0.0</td>\n",
              "      <td>0.469</td>\n",
              "      <td>6.421</td>\n",
              "      <td>78.9</td>\n",
              "      <td>4.9671</td>\n",
              "      <td>2.0</td>\n",
              "      <td>242.0</td>\n",
              "      <td>17.8</td>\n",
              "      <td>396.90</td>\n",
              "      <td>9.14</td>\n",
              "      <td>21.6</td>\n",
              "    </tr>\n",
              "    <tr>\n",
              "      <th>2</th>\n",
              "      <td>0.02729</td>\n",
              "      <td>0.0</td>\n",
              "      <td>7.07</td>\n",
              "      <td>0.0</td>\n",
              "      <td>0.469</td>\n",
              "      <td>7.185</td>\n",
              "      <td>61.1</td>\n",
              "      <td>4.9671</td>\n",
              "      <td>2.0</td>\n",
              "      <td>242.0</td>\n",
              "      <td>17.8</td>\n",
              "      <td>392.83</td>\n",
              "      <td>4.03</td>\n",
              "      <td>34.7</td>\n",
              "    </tr>\n",
              "    <tr>\n",
              "      <th>3</th>\n",
              "      <td>0.03237</td>\n",
              "      <td>0.0</td>\n",
              "      <td>2.18</td>\n",
              "      <td>0.0</td>\n",
              "      <td>0.458</td>\n",
              "      <td>6.998</td>\n",
              "      <td>45.8</td>\n",
              "      <td>6.0622</td>\n",
              "      <td>3.0</td>\n",
              "      <td>222.0</td>\n",
              "      <td>18.7</td>\n",
              "      <td>394.63</td>\n",
              "      <td>2.94</td>\n",
              "      <td>33.4</td>\n",
              "    </tr>\n",
              "    <tr>\n",
              "      <th>4</th>\n",
              "      <td>0.06905</td>\n",
              "      <td>0.0</td>\n",
              "      <td>2.18</td>\n",
              "      <td>0.0</td>\n",
              "      <td>0.458</td>\n",
              "      <td>7.147</td>\n",
              "      <td>54.2</td>\n",
              "      <td>6.0622</td>\n",
              "      <td>3.0</td>\n",
              "      <td>222.0</td>\n",
              "      <td>18.7</td>\n",
              "      <td>396.90</td>\n",
              "      <td>5.33</td>\n",
              "      <td>36.2</td>\n",
              "    </tr>\n",
              "    <tr>\n",
              "      <th>...</th>\n",
              "      <td>...</td>\n",
              "      <td>...</td>\n",
              "      <td>...</td>\n",
              "      <td>...</td>\n",
              "      <td>...</td>\n",
              "      <td>...</td>\n",
              "      <td>...</td>\n",
              "      <td>...</td>\n",
              "      <td>...</td>\n",
              "      <td>...</td>\n",
              "      <td>...</td>\n",
              "      <td>...</td>\n",
              "      <td>...</td>\n",
              "      <td>...</td>\n",
              "    </tr>\n",
              "    <tr>\n",
              "      <th>501</th>\n",
              "      <td>0.06263</td>\n",
              "      <td>0.0</td>\n",
              "      <td>11.93</td>\n",
              "      <td>0.0</td>\n",
              "      <td>0.573</td>\n",
              "      <td>6.593</td>\n",
              "      <td>69.1</td>\n",
              "      <td>2.4786</td>\n",
              "      <td>1.0</td>\n",
              "      <td>273.0</td>\n",
              "      <td>21.0</td>\n",
              "      <td>391.99</td>\n",
              "      <td>9.67</td>\n",
              "      <td>22.4</td>\n",
              "    </tr>\n",
              "    <tr>\n",
              "      <th>502</th>\n",
              "      <td>0.04527</td>\n",
              "      <td>0.0</td>\n",
              "      <td>11.93</td>\n",
              "      <td>0.0</td>\n",
              "      <td>0.573</td>\n",
              "      <td>6.120</td>\n",
              "      <td>76.7</td>\n",
              "      <td>2.2875</td>\n",
              "      <td>1.0</td>\n",
              "      <td>273.0</td>\n",
              "      <td>21.0</td>\n",
              "      <td>396.90</td>\n",
              "      <td>9.08</td>\n",
              "      <td>20.6</td>\n",
              "    </tr>\n",
              "    <tr>\n",
              "      <th>503</th>\n",
              "      <td>0.06076</td>\n",
              "      <td>0.0</td>\n",
              "      <td>11.93</td>\n",
              "      <td>0.0</td>\n",
              "      <td>0.573</td>\n",
              "      <td>6.976</td>\n",
              "      <td>91.0</td>\n",
              "      <td>2.1675</td>\n",
              "      <td>1.0</td>\n",
              "      <td>273.0</td>\n",
              "      <td>21.0</td>\n",
              "      <td>396.90</td>\n",
              "      <td>5.64</td>\n",
              "      <td>23.9</td>\n",
              "    </tr>\n",
              "    <tr>\n",
              "      <th>504</th>\n",
              "      <td>0.10959</td>\n",
              "      <td>0.0</td>\n",
              "      <td>11.93</td>\n",
              "      <td>0.0</td>\n",
              "      <td>0.573</td>\n",
              "      <td>6.794</td>\n",
              "      <td>89.3</td>\n",
              "      <td>2.3889</td>\n",
              "      <td>1.0</td>\n",
              "      <td>273.0</td>\n",
              "      <td>21.0</td>\n",
              "      <td>393.45</td>\n",
              "      <td>6.48</td>\n",
              "      <td>22.0</td>\n",
              "    </tr>\n",
              "    <tr>\n",
              "      <th>505</th>\n",
              "      <td>0.04741</td>\n",
              "      <td>0.0</td>\n",
              "      <td>11.93</td>\n",
              "      <td>0.0</td>\n",
              "      <td>0.573</td>\n",
              "      <td>6.030</td>\n",
              "      <td>80.8</td>\n",
              "      <td>2.5050</td>\n",
              "      <td>1.0</td>\n",
              "      <td>273.0</td>\n",
              "      <td>21.0</td>\n",
              "      <td>396.90</td>\n",
              "      <td>7.88</td>\n",
              "      <td>11.9</td>\n",
              "    </tr>\n",
              "  </tbody>\n",
              "</table>\n",
              "<p>506 rows × 14 columns</p>\n",
              "</div>"
            ],
            "text/plain": [
              "        CRIM    ZN  INDUS  CHAS    NOX  ...    TAX  PTRATIO       B  LSTAT  target\n",
              "0    0.00632  18.0   2.31   0.0  0.538  ...  296.0     15.3  396.90   4.98    24.0\n",
              "1    0.02731   0.0   7.07   0.0  0.469  ...  242.0     17.8  396.90   9.14    21.6\n",
              "2    0.02729   0.0   7.07   0.0  0.469  ...  242.0     17.8  392.83   4.03    34.7\n",
              "3    0.03237   0.0   2.18   0.0  0.458  ...  222.0     18.7  394.63   2.94    33.4\n",
              "4    0.06905   0.0   2.18   0.0  0.458  ...  222.0     18.7  396.90   5.33    36.2\n",
              "..       ...   ...    ...   ...    ...  ...    ...      ...     ...    ...     ...\n",
              "501  0.06263   0.0  11.93   0.0  0.573  ...  273.0     21.0  391.99   9.67    22.4\n",
              "502  0.04527   0.0  11.93   0.0  0.573  ...  273.0     21.0  396.90   9.08    20.6\n",
              "503  0.06076   0.0  11.93   0.0  0.573  ...  273.0     21.0  396.90   5.64    23.9\n",
              "504  0.10959   0.0  11.93   0.0  0.573  ...  273.0     21.0  393.45   6.48    22.0\n",
              "505  0.04741   0.0  11.93   0.0  0.573  ...  273.0     21.0  396.90   7.88    11.9\n",
              "\n",
              "[506 rows x 14 columns]"
            ]
          },
          "metadata": {
            "tags": []
          },
          "execution_count": 2
        }
      ]
    },
    {
      "cell_type": "code",
      "metadata": {
        "id": "KtDvgKnblYMw"
      },
      "source": [
        "# 預處理: pandas/DataFrame\n",
        "# 機器學習: numpy/np.array\n",
        "# x = input,y = output\n",
        "import numpy as np\n",
        "from sklearn.model_selection import train_test_split\n",
        "x, y = df.drop([\"target\"], axis=1), df[\"target\"]\n",
        "x, y = np.array(x), np.array(y)\n",
        "x_train,x_test,y_train,y_test = train_test_split(x,y,test_size=0.1)"
      ],
      "execution_count": null,
      "outputs": []
    },
    {
      "cell_type": "code",
      "metadata": {
        "id": "p-YJust9pEof",
        "outputId": "dc4dd60d-5e8d-4bc2-afd4-4296ab642c58",
        "colab": {
          "base_uri": "https://localhost:8080/",
          "height": 118
        }
      },
      "source": [
        "from sklearn.tree import DecisionTreeRegressor\n",
        "reg = DecisionTreeRegressor(max_depth=5,random_state=1)\n",
        "reg.fit(x_train,y_train)"
      ],
      "execution_count": null,
      "outputs": [
        {
          "output_type": "execute_result",
          "data": {
            "text/plain": [
              "DecisionTreeRegressor(ccp_alpha=0.0, criterion='mse', max_depth=5,\n",
              "                      max_features=None, max_leaf_nodes=None,\n",
              "                      min_impurity_decrease=0.0, min_impurity_split=None,\n",
              "                      min_samples_leaf=1, min_samples_split=2,\n",
              "                      min_weight_fraction_leaf=0.0, presort='deprecated',\n",
              "                      random_state=1, splitter='best')"
            ]
          },
          "metadata": {
            "tags": []
          },
          "execution_count": 19
        }
      ]
    },
    {
      "cell_type": "code",
      "metadata": {
        "id": "PwPtjl_nq0_S",
        "outputId": "fb9ba453-0e91-4b77-ab65-613a03cd6227",
        "colab": {
          "base_uri": "https://localhost:8080/",
          "height": 496
        }
      },
      "source": [
        "import graphviz\n",
        "from sklearn.tree import export_graphviz\n",
        "g = export_graphviz(reg,feature_names = boston[\"feature_names\"],filled=True,max_depth=2)\n",
        "graphviz.Source(g)"
      ],
      "execution_count": null,
      "outputs": [
        {
          "output_type": "execute_result",
          "data": {
            "text/plain": [
              "<graphviz.files.Source at 0x7fd3c381b2e8>"
            ],
            "image/svg+xml": "<?xml version=\"1.0\" encoding=\"UTF-8\" standalone=\"no\"?>\n<!DOCTYPE svg PUBLIC \"-//W3C//DTD SVG 1.1//EN\"\n \"http://www.w3.org/Graphics/SVG/1.1/DTD/svg11.dtd\">\n<!-- Generated by graphviz version 2.40.1 (20161225.0304)\n -->\n<!-- Title: Tree Pages: 1 -->\n<svg width=\"580pt\" height=\"356pt\"\n viewBox=\"0.00 0.00 580.00 356.00\" xmlns=\"http://www.w3.org/2000/svg\" xmlns:xlink=\"http://www.w3.org/1999/xlink\">\n<g id=\"graph0\" class=\"graph\" transform=\"scale(1 1) rotate(0) translate(4 352)\">\n<title>Tree</title>\n<polygon fill=\"#ffffff\" stroke=\"transparent\" points=\"-4,4 -4,-352 576,-352 576,4 -4,4\"/>\n<!-- 0 -->\n<g id=\"node1\" class=\"node\">\n<title>0</title>\n<polygon fill=\"#f7d6bf\" stroke=\"#000000\" points=\"339,-348 235,-348 235,-280 339,-280 339,-348\"/>\n<text text-anchor=\"middle\" x=\"287\" y=\"-332.8\" font-family=\"Times,serif\" font-size=\"14.00\" fill=\"#000000\">RM &lt;= 6.838</text>\n<text text-anchor=\"middle\" x=\"287\" y=\"-317.8\" font-family=\"Times,serif\" font-size=\"14.00\" fill=\"#000000\">mse = 84.063</text>\n<text text-anchor=\"middle\" x=\"287\" y=\"-302.8\" font-family=\"Times,serif\" font-size=\"14.00\" fill=\"#000000\">samples = 455</text>\n<text text-anchor=\"middle\" x=\"287\" y=\"-287.8\" font-family=\"Times,serif\" font-size=\"14.00\" fill=\"#000000\">value = 22.393</text>\n</g>\n<!-- 1 -->\n<g id=\"node2\" class=\"node\">\n<title>1</title>\n<polygon fill=\"#f8dfcc\" stroke=\"#000000\" points=\"283.5,-244 158.5,-244 158.5,-176 283.5,-176 283.5,-244\"/>\n<text text-anchor=\"middle\" x=\"221\" y=\"-228.8\" font-family=\"Times,serif\" font-size=\"14.00\" fill=\"#000000\">LSTAT &lt;= 15.005</text>\n<text text-anchor=\"middle\" x=\"221\" y=\"-213.8\" font-family=\"Times,serif\" font-size=\"14.00\" fill=\"#000000\">mse = 39.491</text>\n<text text-anchor=\"middle\" x=\"221\" y=\"-198.8\" font-family=\"Times,serif\" font-size=\"14.00\" fill=\"#000000\">samples = 379</text>\n<text text-anchor=\"middle\" x=\"221\" y=\"-183.8\" font-family=\"Times,serif\" font-size=\"14.00\" fill=\"#000000\">value = 19.642</text>\n</g>\n<!-- 0&#45;&gt;1 -->\n<g id=\"edge1\" class=\"edge\">\n<title>0&#45;&gt;1</title>\n<path fill=\"none\" stroke=\"#000000\" d=\"M265.3891,-279.9465C259.8622,-271.2373 253.8494,-261.7626 248.0854,-252.6801\"/>\n<polygon fill=\"#000000\" stroke=\"#000000\" points=\"250.9729,-250.6979 242.6594,-244.13 245.0626,-254.4487 250.9729,-250.6979\"/>\n<text text-anchor=\"middle\" x=\"237.2058\" y=\"-264.8279\" font-family=\"Times,serif\" font-size=\"14.00\" fill=\"#000000\">True</text>\n</g>\n<!-- 28 -->\n<g id=\"node9\" class=\"node\">\n<title>28</title>\n<polygon fill=\"#eeac7c\" stroke=\"#000000\" points=\"404.5,-244 301.5,-244 301.5,-176 404.5,-176 404.5,-244\"/>\n<text text-anchor=\"middle\" x=\"353\" y=\"-228.8\" font-family=\"Times,serif\" font-size=\"14.00\" fill=\"#000000\">RM &lt;= 7.437</text>\n<text text-anchor=\"middle\" x=\"353\" y=\"-213.8\" font-family=\"Times,serif\" font-size=\"14.00\" fill=\"#000000\">mse = 80.439</text>\n<text text-anchor=\"middle\" x=\"353\" y=\"-198.8\" font-family=\"Times,serif\" font-size=\"14.00\" fill=\"#000000\">samples = 76</text>\n<text text-anchor=\"middle\" x=\"353\" y=\"-183.8\" font-family=\"Times,serif\" font-size=\"14.00\" fill=\"#000000\">value = 36.111</text>\n</g>\n<!-- 0&#45;&gt;28 -->\n<g id=\"edge8\" class=\"edge\">\n<title>0&#45;&gt;28</title>\n<path fill=\"none\" stroke=\"#000000\" d=\"M308.6109,-279.9465C314.1378,-271.2373 320.1506,-261.7626 325.9146,-252.6801\"/>\n<polygon fill=\"#000000\" stroke=\"#000000\" points=\"328.9374,-254.4487 331.3406,-244.13 323.0271,-250.6979 328.9374,-254.4487\"/>\n<text text-anchor=\"middle\" x=\"336.7942\" y=\"-264.8279\" font-family=\"Times,serif\" font-size=\"14.00\" fill=\"#000000\">False</text>\n</g>\n<!-- 2 -->\n<g id=\"node3\" class=\"node\">\n<title>2</title>\n<polygon fill=\"#f6d5bd\" stroke=\"#000000\" points=\"149,-140 45,-140 45,-72 149,-72 149,-140\"/>\n<text text-anchor=\"middle\" x=\"97\" y=\"-124.8\" font-family=\"Times,serif\" font-size=\"14.00\" fill=\"#000000\">DIS &lt;= 1.385</text>\n<text text-anchor=\"middle\" x=\"97\" y=\"-109.8\" font-family=\"Times,serif\" font-size=\"14.00\" fill=\"#000000\">mse = 26.603</text>\n<text text-anchor=\"middle\" x=\"97\" y=\"-94.8\" font-family=\"Times,serif\" font-size=\"14.00\" fill=\"#000000\">samples = 234</text>\n<text text-anchor=\"middle\" x=\"97\" y=\"-79.8\" font-family=\"Times,serif\" font-size=\"14.00\" fill=\"#000000\">value = 22.814</text>\n</g>\n<!-- 1&#45;&gt;2 -->\n<g id=\"edge2\" class=\"edge\">\n<title>1&#45;&gt;2</title>\n<path fill=\"none\" stroke=\"#000000\" d=\"M180.3978,-175.9465C169.2644,-166.6088 157.0817,-156.3911 145.5511,-146.7203\"/>\n<polygon fill=\"#000000\" stroke=\"#000000\" points=\"147.6046,-143.8745 137.6935,-140.13 143.1062,-149.2378 147.6046,-143.8745\"/>\n</g>\n<!-- 13 -->\n<g id=\"node6\" class=\"node\">\n<title>13</title>\n<polygon fill=\"#fceee5\" stroke=\"#000000\" points=\"278.5,-140 167.5,-140 167.5,-72 278.5,-72 278.5,-140\"/>\n<text text-anchor=\"middle\" x=\"223\" y=\"-124.8\" font-family=\"Times,serif\" font-size=\"14.00\" fill=\"#000000\">CRIM &lt;= 5.769</text>\n<text text-anchor=\"middle\" x=\"223\" y=\"-109.8\" font-family=\"Times,serif\" font-size=\"14.00\" fill=\"#000000\">mse = 17.859</text>\n<text text-anchor=\"middle\" x=\"223\" y=\"-94.8\" font-family=\"Times,serif\" font-size=\"14.00\" fill=\"#000000\">samples = 145</text>\n<text text-anchor=\"middle\" x=\"223\" y=\"-79.8\" font-family=\"Times,serif\" font-size=\"14.00\" fill=\"#000000\">value = 14.524</text>\n</g>\n<!-- 1&#45;&gt;13 -->\n<g id=\"edge5\" class=\"edge\">\n<title>1&#45;&gt;13</title>\n<path fill=\"none\" stroke=\"#000000\" d=\"M221.6549,-175.9465C221.812,-167.776 221.9821,-158.9318 222.1467,-150.3697\"/>\n<polygon fill=\"#000000\" stroke=\"#000000\" points=\"225.6506,-150.1955 222.3437,-140.13 218.6519,-150.0608 225.6506,-150.1955\"/>\n</g>\n<!-- 3 -->\n<g id=\"node4\" class=\"node\">\n<title>3</title>\n<polygon fill=\"#c0c0c0\" stroke=\"#000000\" points=\"54,-36 0,-36 0,0 54,0 54,-36\"/>\n<text text-anchor=\"middle\" x=\"27\" y=\"-14.3\" font-family=\"Times,serif\" font-size=\"14.00\" fill=\"#000000\">(...)</text>\n</g>\n<!-- 2&#45;&gt;3 -->\n<g id=\"edge3\" class=\"edge\">\n<title>2&#45;&gt;3</title>\n<path fill=\"none\" stroke=\"#000000\" d=\"M69.9362,-71.9769C62.5891,-62.7406 54.7495,-52.8851 47.8069,-44.1573\"/>\n<polygon fill=\"#000000\" stroke=\"#000000\" points=\"50.4353,-41.8391 41.4709,-36.192 44.957,-46.1968 50.4353,-41.8391\"/>\n</g>\n<!-- 6 -->\n<g id=\"node5\" class=\"node\">\n<title>6</title>\n<polygon fill=\"#c0c0c0\" stroke=\"#000000\" points=\"126,-36 72,-36 72,0 126,0 126,-36\"/>\n<text text-anchor=\"middle\" x=\"99\" y=\"-14.3\" font-family=\"Times,serif\" font-size=\"14.00\" fill=\"#000000\">(...)</text>\n</g>\n<!-- 2&#45;&gt;6 -->\n<g id=\"edge4\" class=\"edge\">\n<title>2&#45;&gt;6</title>\n<path fill=\"none\" stroke=\"#000000\" d=\"M97.7733,-71.9769C97.9659,-63.5023 98.1703,-54.5065 98.3559,-46.3388\"/>\n<polygon fill=\"#000000\" stroke=\"#000000\" points=\"101.8583,-46.2689 98.5865,-36.192 94.8601,-46.1098 101.8583,-46.2689\"/>\n</g>\n<!-- 14 -->\n<g id=\"node7\" class=\"node\">\n<title>14</title>\n<polygon fill=\"#c0c0c0\" stroke=\"#000000\" points=\"206,-36 152,-36 152,0 206,0 206,-36\"/>\n<text text-anchor=\"middle\" x=\"179\" y=\"-14.3\" font-family=\"Times,serif\" font-size=\"14.00\" fill=\"#000000\">(...)</text>\n</g>\n<!-- 13&#45;&gt;14 -->\n<g id=\"edge6\" class=\"edge\">\n<title>13&#45;&gt;14</title>\n<path fill=\"none\" stroke=\"#000000\" d=\"M205.9885,-71.9769C201.5607,-63.1215 196.8484,-53.6969 192.6213,-45.2427\"/>\n<polygon fill=\"#000000\" stroke=\"#000000\" points=\"195.6987,-43.571 188.096,-36.192 189.4377,-46.7015 195.6987,-43.571\"/>\n</g>\n<!-- 21 -->\n<g id=\"node8\" class=\"node\">\n<title>21</title>\n<polygon fill=\"#c0c0c0\" stroke=\"#000000\" points=\"278,-36 224,-36 224,0 278,0 278,-36\"/>\n<text text-anchor=\"middle\" x=\"251\" y=\"-14.3\" font-family=\"Times,serif\" font-size=\"14.00\" fill=\"#000000\">(...)</text>\n</g>\n<!-- 13&#45;&gt;21 -->\n<g id=\"edge7\" class=\"edge\">\n<title>13&#45;&gt;21</title>\n<path fill=\"none\" stroke=\"#000000\" d=\"M233.8255,-71.9769C236.5826,-63.3119 239.513,-54.102 242.1579,-45.7894\"/>\n<polygon fill=\"#000000\" stroke=\"#000000\" points=\"245.5148,-46.7825 245.2117,-36.192 238.8443,-44.66 245.5148,-46.7825\"/>\n</g>\n<!-- 29 -->\n<g id=\"node10\" class=\"node\">\n<title>29</title>\n<polygon fill=\"#f1bb93\" stroke=\"#000000\" points=\"405,-140 299,-140 299,-72 405,-72 405,-140\"/>\n<text text-anchor=\"middle\" x=\"352\" y=\"-124.8\" font-family=\"Times,serif\" font-size=\"14.00\" fill=\"#000000\">NOX &lt;= 0.659</text>\n<text text-anchor=\"middle\" x=\"352\" y=\"-109.8\" font-family=\"Times,serif\" font-size=\"14.00\" fill=\"#000000\">mse = 39.0</text>\n<text text-anchor=\"middle\" x=\"352\" y=\"-94.8\" font-family=\"Times,serif\" font-size=\"14.00\" fill=\"#000000\">samples = 49</text>\n<text text-anchor=\"middle\" x=\"352\" y=\"-79.8\" font-family=\"Times,serif\" font-size=\"14.00\" fill=\"#000000\">value = 31.327</text>\n</g>\n<!-- 28&#45;&gt;29 -->\n<g id=\"edge9\" class=\"edge\">\n<title>28&#45;&gt;29</title>\n<path fill=\"none\" stroke=\"#000000\" d=\"M352.6726,-175.9465C352.594,-167.776 352.509,-158.9318 352.4266,-150.3697\"/>\n<polygon fill=\"#000000\" stroke=\"#000000\" points=\"355.9243,-150.0958 352.3282,-140.13 348.9246,-150.1632 355.9243,-150.0958\"/>\n</g>\n<!-- 40 -->\n<g id=\"node13\" class=\"node\">\n<title>40</title>\n<polygon fill=\"#e89152\" stroke=\"#000000\" points=\"527,-140 423,-140 423,-72 527,-72 527,-140\"/>\n<text text-anchor=\"middle\" x=\"475\" y=\"-124.8\" font-family=\"Times,serif\" font-size=\"14.00\" fill=\"#000000\">B &lt;= 364.49</text>\n<text text-anchor=\"middle\" x=\"475\" y=\"-109.8\" font-family=\"Times,serif\" font-size=\"14.00\" fill=\"#000000\">mse = 38.73</text>\n<text text-anchor=\"middle\" x=\"475\" y=\"-94.8\" font-family=\"Times,serif\" font-size=\"14.00\" fill=\"#000000\">samples = 27</text>\n<text text-anchor=\"middle\" x=\"475\" y=\"-79.8\" font-family=\"Times,serif\" font-size=\"14.00\" fill=\"#000000\">value = 44.793</text>\n</g>\n<!-- 28&#45;&gt;40 -->\n<g id=\"edge12\" class=\"edge\">\n<title>28&#45;&gt;40</title>\n<path fill=\"none\" stroke=\"#000000\" d=\"M392.9474,-175.9465C403.9012,-166.6088 415.8873,-156.3911 427.232,-146.7203\"/>\n<polygon fill=\"#000000\" stroke=\"#000000\" points=\"429.6233,-149.2809 434.9629,-140.13 425.0821,-143.9538 429.6233,-149.2809\"/>\n</g>\n<!-- 30 -->\n<g id=\"node11\" class=\"node\">\n<title>30</title>\n<polygon fill=\"#c0c0c0\" stroke=\"#000000\" points=\"354,-36 300,-36 300,0 354,0 354,-36\"/>\n<text text-anchor=\"middle\" x=\"327\" y=\"-14.3\" font-family=\"Times,serif\" font-size=\"14.00\" fill=\"#000000\">(...)</text>\n</g>\n<!-- 29&#45;&gt;30 -->\n<g id=\"edge10\" class=\"edge\">\n<title>29&#45;&gt;30</title>\n<path fill=\"none\" stroke=\"#000000\" d=\"M342.3343,-71.9769C339.8998,-63.4071 337.3137,-54.3043 334.9727,-46.0638\"/>\n<polygon fill=\"#000000\" stroke=\"#000000\" points=\"338.2678,-44.8548 332.1682,-36.192 331.5342,-46.7678 338.2678,-44.8548\"/>\n</g>\n<!-- 35 -->\n<g id=\"node12\" class=\"node\">\n<title>35</title>\n<polygon fill=\"#c0c0c0\" stroke=\"#000000\" points=\"426,-36 372,-36 372,0 426,0 426,-36\"/>\n<text text-anchor=\"middle\" x=\"399\" y=\"-14.3\" font-family=\"Times,serif\" font-size=\"14.00\" fill=\"#000000\">(...)</text>\n</g>\n<!-- 29&#45;&gt;35 -->\n<g id=\"edge11\" class=\"edge\">\n<title>29&#45;&gt;35</title>\n<path fill=\"none\" stroke=\"#000000\" d=\"M370.1714,-71.9769C374.901,-63.1215 379.9346,-53.6969 384.4499,-45.2427\"/>\n<polygon fill=\"#000000\" stroke=\"#000000\" points=\"387.66,-46.6616 389.2838,-36.192 381.4854,-43.3638 387.66,-46.6616\"/>\n</g>\n<!-- 41 -->\n<g id=\"node14\" class=\"node\">\n<title>41</title>\n<polygon fill=\"#c0c0c0\" stroke=\"#000000\" points=\"500,-36 446,-36 446,0 500,0 500,-36\"/>\n<text text-anchor=\"middle\" x=\"473\" y=\"-14.3\" font-family=\"Times,serif\" font-size=\"14.00\" fill=\"#000000\">(...)</text>\n</g>\n<!-- 40&#45;&gt;41 -->\n<g id=\"edge13\" class=\"edge\">\n<title>40&#45;&gt;41</title>\n<path fill=\"none\" stroke=\"#000000\" d=\"M474.2267,-71.9769C474.0341,-63.5023 473.8297,-54.5065 473.6441,-46.3388\"/>\n<polygon fill=\"#000000\" stroke=\"#000000\" points=\"477.1399,-46.1098 473.4135,-36.192 470.1417,-46.2689 477.1399,-46.1098\"/>\n</g>\n<!-- 42 -->\n<g id=\"node15\" class=\"node\">\n<title>42</title>\n<polygon fill=\"#c0c0c0\" stroke=\"#000000\" points=\"572,-36 518,-36 518,0 572,0 572,-36\"/>\n<text text-anchor=\"middle\" x=\"545\" y=\"-14.3\" font-family=\"Times,serif\" font-size=\"14.00\" fill=\"#000000\">(...)</text>\n</g>\n<!-- 40&#45;&gt;42 -->\n<g id=\"edge14\" class=\"edge\">\n<title>40&#45;&gt;42</title>\n<path fill=\"none\" stroke=\"#000000\" d=\"M502.0638,-71.9769C509.4109,-62.7406 517.2505,-52.8851 524.1931,-44.1573\"/>\n<polygon fill=\"#000000\" stroke=\"#000000\" points=\"527.043,-46.1968 530.5291,-36.192 521.5647,-41.8391 527.043,-46.1968\"/>\n</g>\n</g>\n</svg>\n"
          },
          "metadata": {
            "tags": []
          },
          "execution_count": 21
        }
      ]
    },
    {
      "cell_type": "code",
      "metadata": {
        "id": "q2---jLl7huv",
        "outputId": "76813752-ab79-4cf8-d68f-79224b4f331c",
        "colab": {
          "base_uri": "https://localhost:8080/",
          "height": 34
        }
      },
      "source": [
        "from sklearn.metrics import r2_score\n",
        "pre = reg.predict(x_test)\n",
        "r2_score(y_test,pre)"
      ],
      "execution_count": null,
      "outputs": [
        {
          "output_type": "execute_result",
          "data": {
            "text/plain": [
              "0.8309237019380203"
            ]
          },
          "metadata": {
            "tags": []
          },
          "execution_count": 22
        }
      ]
    }
  ]
}
