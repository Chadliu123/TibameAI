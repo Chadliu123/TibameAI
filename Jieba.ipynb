{
  "nbformat": 4,
  "nbformat_minor": 0,
  "metadata": {
    "colab": {
      "name": "Jieba.ipynb",
      "provenance": [],
      "collapsed_sections": [],
      "authorship_tag": "ABX9TyMZ2CwZZAz6M+34gIAcomkp",
      "include_colab_link": true
    },
    "kernelspec": {
      "name": "python3",
      "display_name": "Python 3"
    }
  },
  "cells": [
    {
      "cell_type": "markdown",
      "metadata": {
        "id": "view-in-github",
        "colab_type": "text"
      },
      "source": [
        "<a href=\"https://colab.research.google.com/github/Chadliu123/TibameAI/blob/main/Jieba.ipynb\" target=\"_parent\"><img src=\"https://colab.research.google.com/assets/colab-badge.svg\" alt=\"Open In Colab\"/></a>"
      ]
    },
    {
      "cell_type": "code",
      "metadata": {
        "id": "OCIQYW3-qNpr",
        "outputId": "40698f7b-cce2-431a-c995-e4d6f2faf9aa",
        "colab": {
          "base_uri": "https://localhost:8080/",
          "height": 34
        }
      },
      "source": [
        "!pip install opencc-python-reimplemented"
      ],
      "execution_count": null,
      "outputs": [
        {
          "output_type": "stream",
          "text": [
            "Requirement already satisfied: opencc-python-reimplemented in /usr/local/lib/python3.6/dist-packages (0.1.6)\n"
          ],
          "name": "stdout"
        }
      ]
    },
    {
      "cell_type": "code",
      "metadata": {
        "id": "n3Dxh1qAseYk",
        "outputId": "bfb174a8-8efc-4ca1-d1fb-27043f2d0df2",
        "colab": {
          "base_uri": "https://localhost:8080/",
          "height": 52
        }
      },
      "source": [
        "from opencc import OpenCC\n",
        "with open(\"a.txt\",\"r\",encoding=\"utf-8\") as f:\n",
        "  sim = f.read()\n",
        "cc = OpenCC('s2twp')\n",
        "converted = cc.convert(sim)\n",
        "converted"
      ],
      "execution_count": null,
      "outputs": [
        {
          "output_type": "execute_result",
          "data": {
            "application/vnd.google.colaboratory.intrinsic+json": {
              "type": "string"
            },
            "text/plain": [
              "'繁體中文。\\n為什麼會覺bai得煩呢？也許讓我們學du寫繁體中文的話zhi，我們可能會煩。\\n主要dao看所處的環境。\\n如果樓主從一出生就學的是繁體中文的話，現在讓你學寫簡體中文，你也會煩的。如果一個英語為母語的國家，讓他們的人民學中文，不管是繁體還是簡體都會煩。\\n要你用你的純母語來書寫，應該是最順手的吧'"
            ]
          },
          "metadata": {
            "tags": []
          },
          "execution_count": 4
        }
      ]
    },
    {
      "cell_type": "code",
      "metadata": {
        "id": "AsK9u5r3v2kD",
        "outputId": "d91cae52-f549-45ef-8e4e-c04ac269b26e",
        "colab": {
          "base_uri": "https://localhost:8080/",
          "height": 205
        }
      },
      "source": [
        "import os\n",
        "import jieba\n",
        "from urllib.request import urlretrieve\n",
        "if not os.path.exists(\"dict.txt.big\"):\n",
        "  # 載入jieba定義的字典\n",
        "  url = \"https://github.com/fxsjy/jieba/raw/master/extra_dict/dict.txt.big\"\n",
        "  urlretrieve(url, \"dict.txt.big\")\n",
        "jieba.set_dictionary(\"dict.txt.big\")\n",
        "# 載入自己定義的字典\n",
        "jieba.load_userdict(\"dict.txt\")\n",
        "with open(\"news.txt\", \"r\", encoding=\"utf-8\") as f:\n",
        "    news = f.read()\n",
        "\" \".join(jieba.cut(news))"
      ],
      "execution_count": null,
      "outputs": [
        {
          "output_type": "stream",
          "text": [
            "Building prefix dict from /content/dict.txt.big ...\n",
            "Loading model from cache /tmp/jieba.u501edca284da514cb68b53a20324f4e3.cache\n",
            "Loading model cost 1.282 seconds.\n",
            "Prefix dict has been built successfully.\n"
          ],
          "name": "stderr"
        },
        {
          "output_type": "execute_result",
          "data": {
            "application/vnd.google.colaboratory.intrinsic+json": {
              "type": "string"
            },
            "text/plain": [
              "'\\n 夭壽 喔 ！ 這是 做秀 抑是 瘋 了 ？ 美國 總統 川普 （ Donald   Trump ） 確診 武漢肺炎 ， 竟然 短暫 搭車 離開 沃爾特 里德 國家 軍事 醫療 中心 （ Walter   Reed   National   Military   Medical   Center ） ， 繞街 在車 內向 支持者 致意 ， 還稱 是 「 小 驚喜 」 ， 嚇壞 美國 一票 醫學專家 。 GWU 急診 醫學 災難 醫學 負責人 菲利普斯 （ Dr .   James   P .   Phillips ） 痛罵 川普 瘋 了 ， 害同車 的 人 要 隔離 14 天 ， 甚至 面對 感染 、 死亡威脅 。 \\n \\n 川普 堪稱 是 感染 武漢肺炎 後 「 最 不安份 」 的 國家 領袖 了 ， 他 週日 在 推特 上傳 影片 ， 稱要給 大家 「 一個 驚喜 」 ， 沒想到 竟然 是 他 搭乘 防護 車輛 離開 醫院 ， 繞著 醫療 中心 附近 的 街道 「 現身 」 ， 接受 等 在 醫院 外 支持者 的 歡呼 。 \\n \\n \\n 美國有線電視新聞網 CNN 批評 ， 川普 在 SUV 車內 仍 戴 著 防護 口罩 ， 但 他 似乎 沒有 意識 到 危險性 ， 顯示 出 這位 總統 的 可議 行為 ， 他 似乎 無法 理解 高度 傳染性 和 致命性 疾病 的 嚴重性 ， 不 知道 這種 行為 會 危害 員工 ， 以及 可能 引發 的 後續 效應 。 \\n \\n 川普 在 自己 po 的 影片 中 提到 ， 自從 確診 武漢 肺 後 ， 他 學到 很多 ， 還說 他 會 讓 人們 知道 「 這是 一件 非常 有趣 的 事 」 。 醫學專家 菲利普斯 在 推特 痛罵 「 這根 本是 精神 錯亂 」 （ This   is   insanity ） ！ \\n \\n 菲利普斯 批 川普 是 在 做秀 ， 指 與 川普 同車 的 每個 人 都 必須 被 隔離 14 天 ， 他們 可能 會 生病 ， 甚至 可能 會 死 ， 在 這個 政治 劇院 裡 ， 川普 下令 將 這些 人 的 生命 曝露 在 威脅 中 。 該 推文 引來 18 萬 網友 關注 ， 不少 網友 跟 著 罵 川普 「 蠢貨 」 、 「 災難 」 ， 竟然 只 戴 著 普通 醫用 黑色 口罩 ， 而 不是 N95 口罩 ！ 還有 人 認為 這是 「 大 騙局 」 ， 這場 災難 「 管理 失敗 」 。 \\n \\n 白宮 記者 協會 也 發出 聲明 ， 批評 川普 在 沒有 全套 保護 裝備 下離院 的 行為 ， 「 荒謬絕倫 」 ， 記者 們 沒有 接到 任何 通知 ， 相當 不滿 ， 他們 堅稱 美國 民眾 比 任何 時候 更 需要 關於 總統 健康 真實情況 的 報導 。 \\n \\n'"
            ]
          },
          "metadata": {
            "tags": []
          },
          "execution_count": 13
        }
      ]
    },
    {
      "cell_type": "code",
      "metadata": {
        "id": "P7qetP5CRauk",
        "outputId": "92c41812-0d3a-408b-9cf1-99ca9dc20f88",
        "colab": {
          "base_uri": "https://localhost:8080/",
          "height": 357
        }
      },
      "source": [
        "import jieba.analyse\n",
        "jieba.analyse.extract_tags(news)"
      ],
      "execution_count": null,
      "outputs": [
        {
          "output_type": "execute_result",
          "data": {
            "text/plain": [
              "['川普',\n",
              " '這是',\n",
              " '美國',\n",
              " '總統',\n",
              " '災難',\n",
              " '沒有',\n",
              " '行為',\n",
              " '菲利普斯',\n",
              " '口罩',\n",
              " '確診',\n",
              " '武漢肺炎',\n",
              " '離開',\n",
              " '國家',\n",
              " '醫療',\n",
              " '驚喜',\n",
              " '醫學專家',\n",
              " '醫學',\n",
              " '痛罵',\n",
              " '隔離',\n",
              " '14']"
            ]
          },
          "metadata": {
            "tags": []
          },
          "execution_count": 15
        }
      ]
    }
  ]
}